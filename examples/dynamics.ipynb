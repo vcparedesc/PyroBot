{
 "cells": [
  {
   "cell_type": "code",
   "execution_count": 1,
   "metadata": {},
   "outputs": [],
   "source": [
    "#http://www-lar.deis.unibo.it/people/cmelchiorri/Files_Robotica/FIR_05_Dynamics.pdf\n",
    "from sympy import *\n",
    "import sys\n",
    "import os\n",
    "sys.path.append(os.path.abspath(\"../\"))\n",
    "from pyro_derivatives import *\n",
    "from pyro_dynamics import *\n",
    "from pyro_expressions import *\n",
    "from pyro_kinematics import *\n",
    "from pyro_animation import *\n",
    "from sympy.physics.mechanics import *\n",
    "from sympy import symbols, atan, Matrix, solve\n",
    "init_printing(use_unicode=True)\n",
    "from IPython.display import display, Math, Latex\n",
    "#[a1, alfa1, d1, theta1, 'r']\n",
    "a1,a2,g,m1,m2,I1,I2,ac1,ac2 = symbols('a1,a2,g,m1,m2,I1,I2,ac1,ac2')\n",
    "t1,t2 = dynamicsymbols('t1,t2')\n",
    "DH = Matrix([[a1, 0, 0, t1, 'r'], [a2, 0, 0, t2, 'r']])\n",
    "Inertia_1 = Matrix([[0, 0, 0], [0, 0, 0], [0,0,I1]])\n",
    "Inertia_2 = Matrix([[0, 0, 0], [0, 0, 0], [0,0,I2]])\n",
    "Inertias = Matrix([Inertia_1, Inertia_2])\n",
    "\n",
    "Mass_1 = m1\n",
    "Mass_2 = m2\n",
    "Masses = Matrix([Mass_1, Mass_2])\n",
    "\n",
    "#Todo: Add CoM computation\n",
    "CoM_1 = [ac1-a1, 0, 0]\n",
    "CoM_2 = [ac2-a2, 0, 0]\n",
    "CoMs = Matrix([CoM_1, CoM_2])"
   ]
  },
  {
   "cell_type": "code",
   "execution_count": 2,
   "metadata": {},
   "outputs": [
    {
     "data": {
      "text/latex": [
       "$$\\left[\\begin{matrix}a_{1} \\cos{\\left (\\operatorname{t_{1}}{\\left (t \\right )} \\right )} + ac_{2} \\cos{\\left (\\operatorname{t_{1}}{\\left (t \\right )} + \\operatorname{t_{2}}{\\left (t \\right )} \\right )}\\\\a_{1} \\sin{\\left (\\operatorname{t_{1}}{\\left (t \\right )} \\right )} + ac_{2} \\sin{\\left (\\operatorname{t_{1}}{\\left (t \\right )} + \\operatorname{t_{2}}{\\left (t \\right )} \\right )}\\\\0\\end{matrix}\\right]$$"
      ],
      "text/plain": [
       "⎡a₁⋅cos(t₁(t)) + ac₂⋅cos(t₁(t) + t₂(t))⎤\n",
       "⎢                                      ⎥\n",
       "⎢a₁⋅sin(t₁(t)) + ac₂⋅sin(t₁(t) + t₂(t))⎥\n",
       "⎢                                      ⎥\n",
       "⎣                  0                   ⎦"
      ]
     },
     "execution_count": 2,
     "metadata": {},
     "output_type": "execute_result"
    }
   ],
   "source": [
    "Vector_PosFrameDH(DH, 2, CoMs[1,:].T)"
   ]
  },
  {
   "cell_type": "code",
   "execution_count": 3,
   "metadata": {},
   "outputs": [
    {
     "data": {
      "text/latex": [
       "$$\\left[\\begin{matrix}- ac_{1} \\sin{\\left (\\operatorname{t_{1}}{\\left (t \\right )} \\right )} & 0\\\\ac_{1} \\cos{\\left (\\operatorname{t_{1}}{\\left (t \\right )} \\right )} & 0\\\\0 & 0\\\\0 & 0\\\\0 & 0\\\\1 & 0\\end{matrix}\\right]$$"
      ],
      "text/plain": [
       "⎡-ac₁⋅sin(t₁(t))  0⎤\n",
       "⎢                  ⎥\n",
       "⎢ac₁⋅cos(t₁(t))   0⎥\n",
       "⎢                  ⎥\n",
       "⎢       0         0⎥\n",
       "⎢                  ⎥\n",
       "⎢       0         0⎥\n",
       "⎢                  ⎥\n",
       "⎢       0         0⎥\n",
       "⎢                  ⎥\n",
       "⎣       1         0⎦"
      ]
     },
     "execution_count": 3,
     "metadata": {},
     "output_type": "execute_result"
    }
   ],
   "source": [
    "JacobianDH_WrtPoint(DH, 1, CoMs[0,:].T)"
   ]
  },
  {
   "cell_type": "code",
   "execution_count": 4,
   "metadata": {},
   "outputs": [],
   "source": [
    "Dmat = robot_Dmat(DH,Masses,Inertias,CoMs)"
   ]
  },
  {
   "cell_type": "code",
   "execution_count": 5,
   "metadata": {},
   "outputs": [
    {
     "data": {
      "image/png": "[encoded data removed]",
      "text/latex": [
       "$$1.0 a_{1} ac_{2} m_{2} \\sin{\\left (\\operatorname{t_{2}}{\\left (t \\right )} \\right )}$$"
      ],
      "text/plain": [
       "1.0⋅a₁⋅ac₂⋅m₂⋅sin(t₂(t))"
      ]
     },
     "execution_count": 5,
     "metadata": {},
     "output_type": "execute_result"
    }
   ],
   "source": [
    "christoffel1(Dmat,DH, 0,0,1)"
   ]
  },
  {
   "cell_type": "code",
   "execution_count": 6,
   "metadata": {},
   "outputs": [
    {
     "data": {
      "text/latex": [
       "$$\\left[\\begin{matrix}- 1.0 a_{1} ac_{2} m_{2} \\sin{\\left (\\operatorname{t_{2}}{\\left (t \\right )} \\right )} \\frac{d}{d t} \\operatorname{t_{2}}{\\left (t \\right )} & - 1.0 a_{1} ac_{2} m_{2} \\left(\\frac{d}{d t} \\operatorname{t_{1}}{\\left (t \\right )} + \\frac{d}{d t} \\operatorname{t_{2}}{\\left (t \\right )}\\right) \\sin{\\left (\\operatorname{t_{2}}{\\left (t \\right )} \\right )}\\\\1.0 a_{1} ac_{2} m_{2} \\sin{\\left (\\operatorname{t_{2}}{\\left (t \\right )} \\right )} \\frac{d}{d t} \\operatorname{t_{1}}{\\left (t \\right )} & 0\\end{matrix}\\right]$$"
      ],
      "text/plain": [
       "⎡                          d                         ⎛d           d        ⎞  \n",
       "⎢-1.0⋅a₁⋅ac₂⋅m₂⋅sin(t₂(t))⋅──(t₂(t))  -1.0⋅a₁⋅ac₂⋅m₂⋅⎜──(t₁(t)) + ──(t₂(t))⎟⋅s\n",
       "⎢                          dt                        ⎝dt          dt       ⎠  \n",
       "⎢                                                                             \n",
       "⎢                         d                                                   \n",
       "⎢1.0⋅a₁⋅ac₂⋅m₂⋅sin(t₂(t))⋅──(t₁(t))                           0               \n",
       "⎣                         dt                                                  \n",
       "\n",
       "         ⎤\n",
       "in(t₂(t))⎥\n",
       "         ⎥\n",
       "         ⎥\n",
       "         ⎥\n",
       "         ⎥\n",
       "         ⎦"
      ]
     },
     "execution_count": 6,
     "metadata": {},
     "output_type": "execute_result"
    }
   ],
   "source": [
    "robot_Cmat(Dmat, DH)"
   ]
  },
  {
   "cell_type": "code",
   "execution_count": 7,
   "metadata": {},
   "outputs": [
    {
     "data": {
      "text/latex": [
       "$$\\left[\\begin{matrix}- g \\left(a_{1} m_{2} \\cos{\\left (\\operatorname{t_{1}}{\\left (t \\right )} \\right )} + ac_{1} m_{1} \\cos{\\left (\\operatorname{t_{1}}{\\left (t \\right )} \\right )} + ac_{2} m_{2} \\cos{\\left (\\operatorname{t_{1}}{\\left (t \\right )} + \\operatorname{t_{2}}{\\left (t \\right )} \\right )}\\right)\\\\- ac_{2} g m_{2} \\cos{\\left (\\operatorname{t_{1}}{\\left (t \\right )} + \\operatorname{t_{2}}{\\left (t \\right )} \\right )}\\end{matrix}\\right]$$"
      ],
      "text/plain": [
       "⎡-g⋅(a₁⋅m₂⋅cos(t₁(t)) + ac₁⋅m₁⋅cos(t₁(t)) + ac₂⋅m₂⋅cos(t₁(t) + t₂(t)))⎤\n",
       "⎢                                                                     ⎥\n",
       "⎣                    -ac₂⋅g⋅m₂⋅cos(t₁(t) + t₂(t))                     ⎦"
      ]
     },
     "execution_count": 7,
     "metadata": {},
     "output_type": "execute_result"
    }
   ],
   "source": [
    "robot_Gmat(DH, Matrix([[0],[-g],[0]]),Masses,CoMs)"
   ]
  },
  {
   "cell_type": "code",
   "execution_count": 8,
   "metadata": {},
   "outputs": [],
   "source": [
    "D, C, G = robot_dynamics(DH, Matrix([[0],[-g],[0]]), Masses, Inertias, CoMs)"
   ]
  },
  {
   "cell_type": "code",
   "execution_count": null,
   "metadata": {
    "scrolled": true
   },
   "outputs": [],
   "source": [
    "\n"
   ]
  },
  {
   "cell_type": "code",
   "execution_count": null,
   "metadata": {
    "collapsed": true
   },
   "outputs": [],
   "source": []
  }
 ],
 "metadata": {
  "kernelspec": {
   "display_name": "Python 3",
   "language": "python",
   "name": "python3"
  },
  "language_info": {
   "codemirror_mode": {
    "name": "ipython",
    "version": 3
   },
   "file_extension": ".py",
   "mimetype": "text/x-python",
   "name": "python",
   "nbconvert_exporter": "python",
   "pygments_lexer": "ipython3",
   "version": "3.6.3"
  }
 },
 "nbformat": 4,
 "nbformat_minor": 2
}
