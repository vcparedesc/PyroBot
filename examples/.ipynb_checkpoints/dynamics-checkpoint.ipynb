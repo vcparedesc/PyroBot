{
 "cells": [
  {
   "cell_type": "code",
   "execution_count": 1,
   "metadata": {},
   "outputs": [
    {
     "ename": "ModuleNotFoundError",
     "evalue": "No module named 'pyro_derivatives'",
     "output_type": "error",
     "traceback": [
      "\u001b[0;31m---------------------------------------------------------------------------\u001b[0m",
      "\u001b[0;31mModuleNotFoundError\u001b[0m                       Traceback (most recent call last)",
      "\u001b[0;32m<ipython-input-1-3f2ccbd2630c>\u001b[0m in \u001b[0;36m<module>\u001b[0;34m()\u001b[0m\n\u001b[1;32m      4\u001b[0m \u001b[0;32mimport\u001b[0m \u001b[0mos\u001b[0m\u001b[0;34m\u001b[0m\u001b[0m\n\u001b[1;32m      5\u001b[0m \u001b[0msys\u001b[0m\u001b[0;34m.\u001b[0m\u001b[0mpath\u001b[0m\u001b[0;34m.\u001b[0m\u001b[0mappend\u001b[0m\u001b[0;34m(\u001b[0m\u001b[0mos\u001b[0m\u001b[0;34m.\u001b[0m\u001b[0mpath\u001b[0m\u001b[0;34m.\u001b[0m\u001b[0mabspath\u001b[0m\u001b[0;34m(\u001b[0m\u001b[0;34m\"../PyroBot\"\u001b[0m\u001b[0;34m)\u001b[0m\u001b[0;34m)\u001b[0m\u001b[0;34m\u001b[0m\u001b[0m\n\u001b[0;32m----> 6\u001b[0;31m \u001b[0;32mfrom\u001b[0m \u001b[0mpyro_derivatives\u001b[0m \u001b[0;32mimport\u001b[0m \u001b[0;34m*\u001b[0m\u001b[0;34m\u001b[0m\u001b[0m\n\u001b[0m\u001b[1;32m      7\u001b[0m \u001b[0;32mfrom\u001b[0m \u001b[0mpyro_dynamics\u001b[0m \u001b[0;32mimport\u001b[0m \u001b[0;34m*\u001b[0m\u001b[0;34m\u001b[0m\u001b[0m\n\u001b[1;32m      8\u001b[0m \u001b[0;32mfrom\u001b[0m \u001b[0mpyro_expressions\u001b[0m \u001b[0;32mimport\u001b[0m \u001b[0;34m*\u001b[0m\u001b[0;34m\u001b[0m\u001b[0m\n",
      "\u001b[0;31mModuleNotFoundError\u001b[0m: No module named 'pyro_derivatives'"
     ]
    }
   ],
   "source": [
    "#http://www-lar.deis.unibo.it/people/cmelchiorri/Files_Robotica/FIR_05_Dynamics.pdf\n",
    "from sympy import *\n",
    "import sys\n",
    "import os\n",
    "from pyro_derivatives import *\n",
    "from pyro_dynamics import *\n",
    "from pyro_expressions import *\n",
    "from pyro_kinematics import *\n",
    "from pyro_animation import *\n",
    "from sympy.physics.mechanics import *\n",
    "from sympy import symbols, atan, Matrix, solve\n",
    "init_printing(use_unicode=True)\n",
    "from IPython.display import display, Math, Latex\n",
    "#[a1, alfa1, d1, theta1, 'r']\n",
    "a1,a2,g,m1,m2,I1,I2,ac1,ac2 = symbols('a1,a2,g,m1,m2,I1,I2,ac1,ac2')\n",
    "t1,t2 = dynamicsymbols('t1,t2')\n",
    "DH = Matrix([[a1, 0, 0, t1, 'r'], [a2, 0, 0, t2, 'r']])\n",
    "Inertia_1 = Matrix([[0, 0, 0], [0, 0, 0], [0,0,I1]])\n",
    "Inertia_2 = Matrix([[0, 0, 0], [0, 0, 0], [0,0,I2]])\n",
    "Inertias = Matrix([Inertia_1, Inertia_2])\n",
    "\n",
    "Mass_1 = m1\n",
    "Mass_2 = m2\n",
    "Masses = Matrix([Mass_1, Mass_2])\n",
    "\n",
    "#Todo: Add CoM computation\n",
    "CoM_1 = [ac1, 0, 0]\n",
    "CoM_2 = [ac2, 0, 0]\n",
    "CoMs = Matrix([CoM_1, CoM_2])"
   ]
  },
  {
   "cell_type": "code",
   "execution_count": null,
   "metadata": {},
   "outputs": [],
   "source": [
    "Dmat = robot_Dmat(DH,Masses,Inertias)\n",
    "Dmat(0,0)"
   ]
  },
  {
   "cell_type": "code",
   "execution_count": null,
   "metadata": {},
   "outputs": [],
   "source": [
    "christoffel1(Dmat,DH, 0,0,1)"
   ]
  },
  {
   "cell_type": "code",
   "execution_count": null,
   "metadata": {},
   "outputs": [],
   "source": [
    "robot_Cmat(Dmat, DH)"
   ]
  },
  {
   "cell_type": "code",
   "execution_count": null,
   "metadata": {},
   "outputs": [],
   "source": [
    "robot_Gmat(DH, Matrix([[0],[-g],[0]]),Masses)"
   ]
  },
  {
   "cell_type": "code",
   "execution_count": null,
   "metadata": {
    "collapsed": true
   },
   "outputs": [],
   "source": [
    "D, C, G = robot_dynamics(DH, Matrix([[0],[-g],[0]]), Masses, Inertias)"
   ]
  },
  {
   "cell_type": "code",
   "execution_count": null,
   "metadata": {},
   "outputs": [],
   "source": [
    "G"
   ]
  },
  {
   "cell_type": "code",
   "execution_count": null,
   "metadata": {
    "collapsed": true
   },
   "outputs": [],
   "source": []
  }
 ],
 "metadata": {
  "kernelspec": {
   "display_name": "Python 3",
   "language": "python",
   "name": "python3"
  },
  "language_info": {
   "codemirror_mode": {
    "name": "ipython",
    "version": 3
   },
   "file_extension": ".py",
   "mimetype": "text/x-python",
   "name": "python",
   "nbconvert_exporter": "python",
   "pygments_lexer": "ipython3",
   "version": "3.6.3"
  }
 },
 "nbformat": 4,
 "nbformat_minor": 2
}
